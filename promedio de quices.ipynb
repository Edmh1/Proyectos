{
 "cells": [
  {
   "cell_type": "code",
   "execution_count": 1,
   "metadata": {},
   "outputs": [
    {
     "data": {
      "text/plain": [
       "'El promedio ajustado del estudiante A157 es: 2.5'"
      ]
     },
     "execution_count": 1,
     "metadata": {},
     "output_type": "execute_result"
    }
   ],
   "source": [
    "def nota_quices(codigo: str, nota1: int, nota2: int, nota3: int, nota4: int, nota5: int)-> str:\n",
    "    minima_nota= min(nota1, nota2, nota3, nota4, nota5)\n",
    "    suma_de_las_notas= sum((nota1, nota2, nota3, nota4, nota5))\n",
    "    promedio_sin_nota_baja= (suma_de_las_notas - minima_nota)/4\n",
    "    notas_en_escala_requerida= promedio_sin_nota_baja/20\n",
    "    redondear_notas= round(notas_en_escala_requerida,2)\n",
    "    return f\"El promedio ajustado del estudiante {codigo} es: {redondear_notas}\"\n",
    "\n",
    "nota_quices(\"A157\",50,40,40,60,50)\n"
   ]
  }
 ],
 "metadata": {
  "kernelspec": {
   "display_name": "Python 3.9.12 ('base')",
   "language": "python",
   "name": "python3"
  },
  "language_info": {
   "codemirror_mode": {
    "name": "ipython",
    "version": 3
   },
   "file_extension": ".py",
   "mimetype": "text/x-python",
   "name": "python",
   "nbconvert_exporter": "python",
   "pygments_lexer": "ipython3",
   "version": "3.9.12"
  },
  "orig_nbformat": 4,
  "vscode": {
   "interpreter": {
    "hash": "f9e521d613527536419d8307f3965b8d5c4a711030e006a22647167e39fcec97"
   }
  }
 },
 "nbformat": 4,
 "nbformat_minor": 2
}
